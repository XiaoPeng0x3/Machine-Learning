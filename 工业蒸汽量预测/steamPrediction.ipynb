{
 "cells": [
  {
   "cell_type": "markdown",
   "metadata": {},
   "source": [
    "# 工业蒸汽预测\n",
    "- 背景介绍\n",
    "  \n",
    "  火力发电的基本原理是：燃料在燃烧时加热水生成蒸汽，蒸汽压力推动汽轮机旋转，然后汽轮机带动发电机旋转，产生电能。在这一系列的能量转化中，影响发电效率的核心是锅炉的燃烧效率，即燃料燃烧加热水产生高温高压蒸汽。锅炉的燃烧效率的影响因素很多，包括锅炉的可调参数，如燃烧给量，一二次风，引风，返料风，给水水量；以及锅炉的工况，比如锅炉床温、床压，炉膛温度、压力，过热器的温度等\n",
    "\n",
    "- 相关描述\n",
    "  \n",
    "    经脱敏后的锅炉传感器采集的数据（采集频率是分钟级别），根据锅炉的工况，预测产生的蒸汽量。\n",
    "\n",
    "- 数据说明\n",
    "  \n",
    "    数据分成训练数据（train.txt）和测试数据（test.txt），其中字段”V0”-“V37”，这38个字段是作为特征变量，”target”作为目标变量。选手利用训练数据训练出模型，预测测试数据的目标变量，排名结果依据预测结果的MSE（mean square error）。\n",
    "\n",
    "- 结果评估\n",
    "  \n",
    "    预测结果以mean square error作为评判标准。"
   ]
  },
  {
   "cell_type": "markdown",
   "metadata": {},
   "source": [
    "## 前言\n",
    "\n",
    "什么是`MSE`?从名字上来看，`MSE`就是均方误差。它的计算公式很像方差的计算公式。我的理解是，因为像这类问题都是回归预测问题，从而又引出了一些新的问题？\n",
    "- 为什么要划分训练集和测试集\n",
    "- 既然是预测回归问题，那么为什么不使用最小二乘法去拟合所有的数据从而得到一条直线来预测呢\n",
    "\n",
    "针对这两个问题，首先，划分训练集和测试集的一个很重要的目的就是去**评估所得到模型的正确性**。假设你知道所有的数据，并且这些数据永远也不会增加，那么我觉得为了简单起见，大可以把数据直接拟合，然后对于这些已有的数据，就可以很好的“预测”。但是，世界是处在变化之中的，信息无时无刻不在增加，对于那些**我们从来没有见过的数据**，我们又怎么知道拟合出来曲线的正确性呢？如果模型只能很好的预测已经有的数据的话，那么这个模型还算做预测模型吗？\n",
    "所以一般来说，我们会把数据集分为两部分，一部分用来训练(假设是80%)，那么剩下来的数据(20%)就可以用来检验我们**训练的模型预测出来的数据与我们实际的数据之间的差距**。显然，如果预测出来的数据 $\\hat{y_i}$ 越接近于真实值 $ y_i $，那么就说明我们的预测结果也就越好。为了描述这个好的程度，所以也就有了`MSE`这个约定。\n",
    "`MSE`的计算公式还是很简单的，它的计算公式为：$$ \\text{MSE} = \\frac{1}{n} \\sum_{i=1}^n (y_i - \\hat{y}_i)^2 $$\n",
    "\n",
    "是不是很像方差的计算公式，只不过`MSE`计算的是实际值于预测值之间的误差的平均值，同样的，为了避免有负数，两者的结果加上了平方。显然，`MSE`越小，代表模型的预测效果也就越好。"
   ]
  },
  {
   "cell_type": "markdown",
   "metadata": {},
   "source": [
    "# 1 数据探索"
   ]
  },
  {
   "cell_type": "markdown",
   "metadata": {},
   "source": [
    "## 1.1 下载数据"
   ]
  },
  {
   "cell_type": "code",
   "execution_count": 2,
   "metadata": {},
   "outputs": [],
   "source": [
    "import numpy as np\n",
    "import pandas as pd\n",
    "import matplotlib.pyplot as plt\n",
    "import seaborn as sns\n",
    "\n",
    "from scipy import stats\n",
    "\n",
    "import warnings\n",
    "warnings.filterwarnings(\"ignore\")\n",
    " \n",
    "%matplotlib inline"
   ]
  },
  {
   "cell_type": "code",
   "execution_count": 12,
   "metadata": {},
   "outputs": [
    {
     "name": "stderr",
     "output_type": "stream",
     "text": [
      "--2024-06-25 21:05:17--  http://tianchi-media.oss-cn-beijing.aliyuncs.com/DSW/Industrial_Steam_Forecast/zhengqi_test.txt\n",
      "Resolving tianchi-media.oss-cn-beijing.aliyuncs.com (tianchi-media.oss-cn-beijing.aliyuncs.com)... 211.154.222.168\n",
      "Connecting to tianchi-media.oss-cn-beijing.aliyuncs.com (tianchi-media.oss-cn-beijing.aliyuncs.com)|211.154.222.168|:80... connected.\n",
      "HTTP request sent, awaiting response... 200 OK\n",
      "Length: 466959 (456K) [text/plain]\n",
      "Saving to: 'zhengqi_test.txt'\n",
      "\n",
      "     0K .......... .......... .......... .......... .......... 10% 9.20M 0s\n",
      "    50K .......... .......... .......... .......... .......... 21% 5.38M 0s\n",
      "   100K .......... .......... .......... .......... .......... 32% 7.88M 0s\n",
      "   150K .......... .......... .......... .......... .......... 43% 74.5M 0s\n",
      "   200K .......... .......... .......... .......... .......... 54% 5.94M 0s\n",
      "   250K .......... .......... .......... .......... .......... 65% 21.6M 0s\n",
      "   300K .......... .......... .......... .......... .......... 76% 78.9M 0s\n",
      "   350K .......... .......... .......... .......... .......... 87% 75.3M 0s\n",
      "   400K .......... .......... .......... .......... .......... 98% 11.2M 0s\n",
      "   450K ......                                                100% 47.8M=0.04s\n",
      "\n",
      "2024-06-25 21:05:17 (11.9 MB/s) - 'zhengqi_test.txt' saved [466959/466959]\n",
      "\n",
      "--2024-06-25 21:05:17--  http://tianchi-media.oss-cn-beijing.aliyuncs.com/DSW/Industrial_Steam_Forecast/zhengqi_train.txt\n",
      "Resolving tianchi-media.oss-cn-beijing.aliyuncs.com (tianchi-media.oss-cn-beijing.aliyuncs.com)... 211.154.222.168\n",
      "Connecting to tianchi-media.oss-cn-beijing.aliyuncs.com (tianchi-media.oss-cn-beijing.aliyuncs.com)|211.154.222.168|:80... connected.\n",
      "HTTP request sent, awaiting response... 200 OK\n",
      "Length: 714370 (698K) [text/plain]\n",
      "Saving to: 'zhengqi_train.txt'\n",
      "\n",
      "     0K .......... .......... .......... .......... ..........  7% 55.5M 0s\n",
      "    50K .......... .......... .......... .......... .......... 14% 88.2M 0s\n",
      "   100K .......... .......... .......... .......... .......... 21% 97.0M 0s\n",
      "   150K .......... .......... .......... .......... .......... 28%  123M 0s\n",
      "   200K .......... .......... .......... .......... .......... 35% 87.9M 0s\n",
      "   250K .......... .......... .......... .......... .......... 43% 55.3M 0s\n",
      "   300K .......... .......... .......... .......... .......... 50% 10.4M 0s\n",
      "   350K .......... .......... .......... .......... .......... 57% 10.4M 0s\n",
      "   400K .......... .......... .......... .......... .......... 64% 37.7M 0s\n",
      "   450K .......... .......... .......... .......... .......... 71% 13.7M 0s\n",
      "   500K .......... .......... .......... .......... .......... 78% 44.5M 0s\n",
      "   550K .......... .......... .......... .......... .......... 86% 41.8M 0s\n",
      "   600K .......... .......... .......... .......... .......... 93% 87.8M 0s\n",
      "   650K .......... .......... .......... .......... .......   100% 77.0M=0.02s\n",
      "\n",
      "2024-06-25 21:05:17 (31.7 MB/s) - 'zhengqi_train.txt' saved [714370/714370]\n",
      "\n"
     ]
    }
   ],
   "source": [
    "\n",
    "# 下载需要用到的数据集\n",
    "# 注意，需要事先安装wget工具，如果没有请自行安装\n",
    "!wget http://tianchi-media.oss-cn-beijing.aliyuncs.com/DSW/Industrial_Steam_Forecast/zhengqi_test.txt\n",
    "!wget http://tianchi-media.oss-cn-beijing.aliyuncs.com/DSW/Industrial_Steam_Forecast/zhengqi_train.txt\n"
   ]
  },
  {
   "cell_type": "code",
   "execution_count": 3,
   "metadata": {},
   "outputs": [],
   "source": [
    "# 使用Pandas库`read_csv()`函数进行数据读取，分割符为‘\\t’\n",
    "train_data_file = \"./zhengqi_train.txt\"\n",
    "test_data_file =  \"./zhengqi_test.txt\"\n",
    "\n",
    "# pandas\n",
    "train_data = pd.read_csv(train_data_file, sep='\\t', encoding='utf-8') # 训练集\n",
    "test_data = pd.read_csv(test_data_file, sep='\\t', encoding='utf-8') # 测试集"
   ]
  },
  {
   "cell_type": "markdown",
   "metadata": {},
   "source": [
    "## 1.2 数据类型的查看"
   ]
  },
  {
   "cell_type": "code",
   "execution_count": 4,
   "metadata": {},
   "outputs": [
    {
     "name": "stdout",
     "output_type": "stream",
     "text": [
      "<class 'pandas.core.frame.DataFrame'>\n",
      "RangeIndex: 2888 entries, 0 to 2887\n",
      "Data columns (total 39 columns):\n",
      " #   Column  Non-Null Count  Dtype  \n",
      "---  ------  --------------  -----  \n",
      " 0   V0      2888 non-null   float64\n",
      " 1   V1      2888 non-null   float64\n",
      " 2   V2      2888 non-null   float64\n",
      " 3   V3      2888 non-null   float64\n",
      " 4   V4      2888 non-null   float64\n",
      " 5   V5      2888 non-null   float64\n",
      " 6   V6      2888 non-null   float64\n",
      " 7   V7      2888 non-null   float64\n",
      " 8   V8      2888 non-null   float64\n",
      " 9   V9      2888 non-null   float64\n",
      " 10  V10     2888 non-null   float64\n",
      " 11  V11     2888 non-null   float64\n",
      " 12  V12     2888 non-null   float64\n",
      " 13  V13     2888 non-null   float64\n",
      " 14  V14     2888 non-null   float64\n",
      " 15  V15     2888 non-null   float64\n",
      " 16  V16     2888 non-null   float64\n",
      " 17  V17     2888 non-null   float64\n",
      " 18  V18     2888 non-null   float64\n",
      " 19  V19     2888 non-null   float64\n",
      " 20  V20     2888 non-null   float64\n",
      " 21  V21     2888 non-null   float64\n",
      " 22  V22     2888 non-null   float64\n",
      " 23  V23     2888 non-null   float64\n",
      " 24  V24     2888 non-null   float64\n",
      " 25  V25     2888 non-null   float64\n",
      " 26  V26     2888 non-null   float64\n",
      " 27  V27     2888 non-null   float64\n",
      " 28  V28     2888 non-null   float64\n",
      " 29  V29     2888 non-null   float64\n",
      " 30  V30     2888 non-null   float64\n",
      " 31  V31     2888 non-null   float64\n",
      " 32  V32     2888 non-null   float64\n",
      " 33  V33     2888 non-null   float64\n",
      " 34  V34     2888 non-null   float64\n",
      " 35  V35     2888 non-null   float64\n",
      " 36  V36     2888 non-null   float64\n",
      " 37  V37     2888 non-null   float64\n",
      " 38  target  2888 non-null   float64\n",
      "dtypes: float64(39)\n",
      "memory usage: 880.1 KB\n"
     ]
    }
   ],
   "source": [
    "#查看特征变量信息\n",
    "train_data.info()"
   ]
  },
  {
   "cell_type": "code",
   "execution_count": 5,
   "metadata": {},
   "outputs": [
    {
     "name": "stdout",
     "output_type": "stream",
     "text": [
      "<class 'pandas.core.frame.DataFrame'>\n",
      "RangeIndex: 1925 entries, 0 to 1924\n",
      "Data columns (total 38 columns):\n",
      " #   Column  Non-Null Count  Dtype  \n",
      "---  ------  --------------  -----  \n",
      " 0   V0      1925 non-null   float64\n",
      " 1   V1      1925 non-null   float64\n",
      " 2   V2      1925 non-null   float64\n",
      " 3   V3      1925 non-null   float64\n",
      " 4   V4      1925 non-null   float64\n",
      " 5   V5      1925 non-null   float64\n",
      " 6   V6      1925 non-null   float64\n",
      " 7   V7      1925 non-null   float64\n",
      " 8   V8      1925 non-null   float64\n",
      " 9   V9      1925 non-null   float64\n",
      " 10  V10     1925 non-null   float64\n",
      " 11  V11     1925 non-null   float64\n",
      " 12  V12     1925 non-null   float64\n",
      " 13  V13     1925 non-null   float64\n",
      " 14  V14     1925 non-null   float64\n",
      " 15  V15     1925 non-null   float64\n",
      " 16  V16     1925 non-null   float64\n",
      " 17  V17     1925 non-null   float64\n",
      " 18  V18     1925 non-null   float64\n",
      " 19  V19     1925 non-null   float64\n",
      " 20  V20     1925 non-null   float64\n",
      " 21  V21     1925 non-null   float64\n",
      " 22  V22     1925 non-null   float64\n",
      " 23  V23     1925 non-null   float64\n",
      " 24  V24     1925 non-null   float64\n",
      " 25  V25     1925 non-null   float64\n",
      " 26  V26     1925 non-null   float64\n",
      " 27  V27     1925 non-null   float64\n",
      " 28  V28     1925 non-null   float64\n",
      " 29  V29     1925 non-null   float64\n",
      " 30  V30     1925 non-null   float64\n",
      " 31  V31     1925 non-null   float64\n",
      " 32  V32     1925 non-null   float64\n",
      " 33  V33     1925 non-null   float64\n",
      " 34  V34     1925 non-null   float64\n",
      " 35  V35     1925 non-null   float64\n",
      " 36  V36     1925 non-null   float64\n",
      " 37  V37     1925 non-null   float64\n",
      "dtypes: float64(38)\n",
      "memory usage: 571.6 KB\n"
     ]
    }
   ],
   "source": [
    "# 测试集的数据\n",
    "test_data.info()"
   ]
  },
  {
   "cell_type": "markdown",
   "metadata": {},
   "source": [
    "这些数据的输出结果有点令人困惑，经过查询后可以这样理解。"
   ]
  }
 ],
 "metadata": {
  "kernelspec": {
   "display_name": "base",
   "language": "python",
   "name": "python3"
  },
  "language_info": {
   "codemirror_mode": {
    "name": "ipython",
    "version": 3
   },
   "file_extension": ".py",
   "mimetype": "text/x-python",
   "name": "python",
   "nbconvert_exporter": "python",
   "pygments_lexer": "ipython3",
   "version": "3.9.7"
  }
 },
 "nbformat": 4,
 "nbformat_minor": 2
}
